{
 "cells": [
  {
   "cell_type": "markdown",
   "metadata": {},
   "source": [
    "# Video Summarizer"
   ]
  },
  {
   "cell_type": "markdown",
   "metadata": {},
   "source": [
    "### Dependencies"
   ]
  },
  {
   "cell_type": "code",
   "execution_count": 41,
   "metadata": {},
   "outputs": [],
   "source": [
    "import re\n",
    "from dotenv import load_dotenv\n",
    "from pytubefix import YouTube\n",
    "from pytubefix.cli import on_progress\n",
    "from openai import OpenAI\n",
    "from IPython.display import Markdown, display\n",
    "import os\n",
    "\n",
    "# For local audio transcription\n",
    "import whisper\n",
    "import soundfile as sf\n",
    "import numpy as np\n",
    "from pydub import AudioSegment"
   ]
  },
  {
   "cell_type": "code",
   "execution_count": 6,
   "metadata": {},
   "outputs": [
    {
     "name": "stdout",
     "output_type": "stream",
     "text": [
      "OpenAI API Key exists and begins sk-proj-\n"
     ]
    }
   ],
   "source": [
    "load_dotenv()\n",
    "openai_api_key = os.getenv('OPENAI_API_KEY')\n",
    "\n",
    "if openai_api_key:\n",
    "    print(f\"OpenAI API Key exists and begins {openai_api_key[:8]}\")\n",
    "else:\n",
    "    print(\"OpenAI API Key not set\")"
   ]
  },
  {
   "cell_type": "markdown",
   "metadata": {},
   "source": [
    "### Step 1: Download sound from a Youtube Video"
   ]
  },
  {
   "cell_type": "code",
   "execution_count": 7,
   "metadata": {},
   "outputs": [],
   "source": [
    "class SoundDownloader:\n",
    "    def __init__(self, url):\n",
    "        self.url = url\n",
    "\n",
    "    def call(self):\n",
    "        yt = YouTube(self.url)\n",
    "        ys = yt.streams.filter(only_audio=True, file_extension='webm').order_by('abr').first()\n",
    "        print(yt.title)\n",
    "        output_filename = self.sanitize_filename(yt.title) + '.webm'\n",
    "        ys.download(filename=f\"output_filename\")\n",
    "\n",
    "    def sanitize_filename(self, title):\n",
    "        # Remove invalid characters and replace slashes with dashes\n",
    "        clean_title = re.sub(r'[\\\\/*?:\"<>|]', \"\", title)\n",
    "        clean_title = clean_title.replace('/', '-')\n",
    "        return clean_title"
   ]
  },
  {
   "cell_type": "code",
   "execution_count": 22,
   "metadata": {},
   "outputs": [],
   "source": [
    "urls = ['https://www.youtube.com/watch?v=CT_79oqYB0c']"
   ]
  },
  {
   "cell_type": "code",
   "execution_count": 23,
   "metadata": {},
   "outputs": [],
   "source": [
    "for url in urls:\n",
    "    video_sound_downloader = SoundDownloader(url)\n",
    "    # video_sound_downloader.call()"
   ]
  },
  {
   "cell_type": "markdown",
   "metadata": {},
   "source": [
    "### Step 2: Audio -> Transcript (speech to text)"
   ]
  },
  {
   "cell_type": "markdown",
   "metadata": {},
   "source": [
    "#### With OpenAI"
   ]
  },
  {
   "cell_type": "code",
   "execution_count": 36,
   "metadata": {},
   "outputs": [],
   "source": [
    "class AudioTranscriber:\n",
    "    def __init__(self, audio_file_path):\n",
    "        self.audio_file_path = audio_file_path\n",
    "        self.client = OpenAI()\n",
    "\n",
    "    def call(self):\n",
    "        with open(self.audio_file_path, \"rb\") as audio_file:\n",
    "            transcription = self.client.audio.transcriptions.create(\n",
    "                model=\"whisper-1\", \n",
    "                file=audio_file\n",
    "            )\n",
    "        \n",
    "        output_file = self.audio_file_path.rsplit('.', 1)[0] + '_transcription.txt'\n",
    "        with open(output_file, 'w', encoding='utf-8') as f:\n",
    "            f.write(transcription.text)\n",
    "            \n",
    "        return output_file"
   ]
  },
  {
   "cell_type": "code",
   "execution_count": 14,
   "metadata": {},
   "outputs": [],
   "source": [
    "audio_file_path = 'Ahmed Sylla & Hakim Jemili, complices du rire - C à Vous - 15042024.webm'"
   ]
  },
  {
   "cell_type": "code",
   "execution_count": 15,
   "metadata": {},
   "outputs": [],
   "source": [
    "audio_transcriber = AudioTranscriber(audio_file_path)\n",
    "# audio_transcriber.call()"
   ]
  },
  {
   "cell_type": "markdown",
   "metadata": {},
   "source": [
    "#### With local Whisper"
   ]
  },
  {
   "cell_type": "code",
   "execution_count": 45,
   "metadata": {},
   "outputs": [],
   "source": [
    "class LocalAudioTranscriber:\n",
    "    def __init__(self, audio_file_path):\n",
    "        self.audio_file_path = audio_file_path\n",
    "        self.model = whisper.load_model(\"base\")\n",
    "\n",
    "    def call(self):\n",
    "        result = self.model.transcribe(self.audio_file_path)\n",
    "        \n",
    "        output_file = self.audio_file_path.rsplit('.', 1)[0] + '_local_transcription.txt'\n",
    "        with open(output_file, 'w', encoding='utf-8') as f:\n",
    "            f.write(result['text'])\n",
    "            \n",
    "        return output_file"
   ]
  },
  {
   "cell_type": "code",
   "execution_count": 46,
   "metadata": {},
   "outputs": [],
   "source": [
    "audio_file_path = 'Ahmed Sylla & Hakim Jemili, complices du rire - C à Vous - 15042024.webm'"
   ]
  },
  {
   "cell_type": "code",
   "execution_count": null,
   "metadata": {},
   "outputs": [
    {
     "name": "stderr",
     "output_type": "stream",
     "text": [
      "/opt/anaconda3/lib/python3.12/site-packages/whisper/__init__.py:150: FutureWarning: You are using `torch.load` with `weights_only=False` (the current default value), which uses the default pickle module implicitly. It is possible to construct malicious pickle data which will execute arbitrary code during unpickling (See https://github.com/pytorch/pytorch/blob/main/SECURITY.md#untrusted-models for more details). In a future release, the default value for `weights_only` will be flipped to `True`. This limits the functions that could be executed during unpickling. Arbitrary objects will no longer be allowed to be loaded via this mode unless they are explicitly allowlisted by the user via `torch.serialization.add_safe_globals`. We recommend you start setting `weights_only=True` for any use case where you don't have full control of the loaded file. Please open an issue on GitHub for any issues related to this experimental feature.\n",
      "  checkpoint = torch.load(fp, map_location=device)\n"
     ]
    }
   ],
   "source": [
    "local_audio_transcriber = LocalAudioTranscriber(audio_file_path)\n",
    "local_audio_transcriber.call()"
   ]
  },
  {
   "cell_type": "markdown",
   "metadata": {},
   "source": [
    "### Step 3: Transcript -> Summary"
   ]
  },
  {
   "cell_type": "code",
   "execution_count": 17,
   "metadata": {},
   "outputs": [],
   "source": [
    "class TextSummarizer:\n",
    "    def __init__(self, text_file_path):\n",
    "        self.text_file_path = text_file_path\n",
    "        self.client = OpenAI()\n",
    "        self.system_prompt = \"\"\"\n",
    "        You are an assistant that analyzes the content of a video transcription\n",
    "        and provides a summary of the main topics discussed in the transcript.\n",
    "        Summarize them in 1000 words or less and use Markdown formatting.\n",
    "        \"\"\"\n",
    "        self.user_prompt = \"\"\"\n",
    "        You are looking at a transcript containing the following content.\n",
    "        Please provide a summary of the main topics discussed in the transcript:\n",
    "        \"\"\"\n",
    "        self.user_prompt += open(self.text_file_path, 'r', encoding='utf-8').read()\n",
    "\n",
    "    def call(self):\n",
    "        return display(Markdown(self.__summarize__()))\n",
    "    \n",
    "    def __prompts__(self):\n",
    "        return [\n",
    "            {\"role\": \"system\", \"content\": self.system_prompt},\n",
    "            {\"role\": \"user\", \"content\": self.user_prompt}\n",
    "        ]\n",
    "    \n",
    "    def __summarize__(self):\n",
    "        response = self.client.chat.completions.create(\n",
    "            model = \"gpt-4o-mini\",\n",
    "            messages = self.__prompts__()\n",
    "        )\n",
    "        print(response.choices[0].message.content)\n",
    "        return response.choices[0].message.content\n"
   ]
  },
  {
   "cell_type": "code",
   "execution_count": 18,
   "metadata": {},
   "outputs": [],
   "source": [
    "transcript_file_path = 'Ahmed Sylla & Hakim Jemili, complices du rire - C à Vous - 15042024_transcription.txt'"
   ]
  },
  {
   "cell_type": "code",
   "execution_count": 20,
   "metadata": {},
   "outputs": [
    {
     "name": "stdout",
     "output_type": "stream",
     "text": [
      "# Résumé des principaux thèmes discutés\n",
      "\n",
      "Dans le programme \"C'est à vous\", plusieurs sujets ont été abordés autour de la cuisine, du cinéma, et des problématiques d'identité. Voici un résumé des thèmes centraux discutés durant l'émission :\n",
      "\n",
      "## 1. **Cuisine : Le chou farci et la gastronomie régionale**\n",
      "- **Chef Julien Perard** a présenté un plat de chou farci, préparé avec soin dans une quantité appropriée de beurre.\n",
      "- L'accompagnement incluait une salade composée de pousses de moutarde et de fleurs de bourrache. La discussion autour du repas se concentrait sur l'utilisation optimale des ingrédients, comme le tronc de brocoli.\n",
      "\n",
      "## 2. **Thématiques identitaires dans le cinéma**\n",
      "- Le film *Ici et là-bas* a été l'un des sujets majeurs, mettant en avant deux hommes d'origines différentes qui traversent des expériences de découvertes et de confrontations avec leurs identités respectives.\n",
      "- **Ahmed Sylla** et **Hakim Gemmani**, acteurs du film, ont partagé leurs expériences personnelles liées aux questions d'identité culturelle et à la perception du racisme en France. Ils ont évoqué comment leur parcours a eu un impact sur leur façon de se représenter à l'écran.\n",
      "\n",
      "## 3. **Discussions sur le racisme et les stéréotypes**\n",
      "- Les acteurs ont débattu des réflexes racistes encore présents dans la société, et la façon dont leur film vise à aborder ces questions sans tomber dans le militantisme.\n",
      "- Ils ont souligné l'importance de l'auto-évaluation et de l'éducation personnelle pour combattre ces stéréotypes.\n",
      "\n",
      "## 4. **Le parcours des artistes et le soutien à l'autisme**\n",
      "- **Francis Perrin**, acteur emblématique, a partagé son engagement en tant que père d'un jeune homme autiste, **Louis**, et la campagne de sensibilisation sur l'autisme.\n",
      "- Leur parcours a révélé les luttes rencontrées pour obtenir de la reconnaissance dans les méthodes de traitement pour autisme et a mis en lumière les difficultés que les familles rencontrent face à des jugements déplacés.\n",
      "\n",
      "## 5. **La comédie et le divertissement**\n",
      "- Les invités, notamment **Ahmed** et **Hakim**, ont également discuté de leur carrière humoristique, abordant la capacité de la comédie à évoquer des vérités personnelles et sociétales tout en divertissant.\n",
      "- Les dynamiques entre les comédiens sur scène, leur amitié et leurs expériences professionnelles ont été également mises en avant.\n",
      "\n",
      "## 6. **Appel à la tolérance et acceptation de soi**\n",
      "- Les échanges autour de la façon dont chacun a appris à accepter ses propres racines et ses différences sont restés en toile de fond, positionnant l'importance de la tolérance dans le cadre de la société moderne.\n",
      "\n",
      "## 7. **Événements à venir : promotions de films et spectacles**\n",
      "- Plusieurs événements à venir ont été annoncés, incluant la sortie de *Ici et là-bas* au cinéma et des spectacles d'humour, renforçant l'idée de la continuité des carrières des artistes présents.\n",
      "\n",
      "## 8. **Culture musicale : Bruce Springsteen**\n",
      "- Un segment a été consacré à la carrière de Bruce Springsteen, avec des réflexions sur sa notoriété actuelle et son impact sur la musique et la culture.\n",
      "\n",
      "Cet ensemble de discussions reflète une connexion entre la cuisine, l'art et les expériences individuelles, tout en explorant des dimensions sociales pertinentes à notre époque.\n"
     ]
    },
    {
     "data": {
      "text/markdown": [
       "# Résumé des principaux thèmes discutés\n",
       "\n",
       "Dans le programme \"C'est à vous\", plusieurs sujets ont été abordés autour de la cuisine, du cinéma, et des problématiques d'identité. Voici un résumé des thèmes centraux discutés durant l'émission :\n",
       "\n",
       "## 1. **Cuisine : Le chou farci et la gastronomie régionale**\n",
       "- **Chef Julien Perard** a présenté un plat de chou farci, préparé avec soin dans une quantité appropriée de beurre.\n",
       "- L'accompagnement incluait une salade composée de pousses de moutarde et de fleurs de bourrache. La discussion autour du repas se concentrait sur l'utilisation optimale des ingrédients, comme le tronc de brocoli.\n",
       "\n",
       "## 2. **Thématiques identitaires dans le cinéma**\n",
       "- Le film *Ici et là-bas* a été l'un des sujets majeurs, mettant en avant deux hommes d'origines différentes qui traversent des expériences de découvertes et de confrontations avec leurs identités respectives.\n",
       "- **Ahmed Sylla** et **Hakim Gemmani**, acteurs du film, ont partagé leurs expériences personnelles liées aux questions d'identité culturelle et à la perception du racisme en France. Ils ont évoqué comment leur parcours a eu un impact sur leur façon de se représenter à l'écran.\n",
       "\n",
       "## 3. **Discussions sur le racisme et les stéréotypes**\n",
       "- Les acteurs ont débattu des réflexes racistes encore présents dans la société, et la façon dont leur film vise à aborder ces questions sans tomber dans le militantisme.\n",
       "- Ils ont souligné l'importance de l'auto-évaluation et de l'éducation personnelle pour combattre ces stéréotypes.\n",
       "\n",
       "## 4. **Le parcours des artistes et le soutien à l'autisme**\n",
       "- **Francis Perrin**, acteur emblématique, a partagé son engagement en tant que père d'un jeune homme autiste, **Louis**, et la campagne de sensibilisation sur l'autisme.\n",
       "- Leur parcours a révélé les luttes rencontrées pour obtenir de la reconnaissance dans les méthodes de traitement pour autisme et a mis en lumière les difficultés que les familles rencontrent face à des jugements déplacés.\n",
       "\n",
       "## 5. **La comédie et le divertissement**\n",
       "- Les invités, notamment **Ahmed** et **Hakim**, ont également discuté de leur carrière humoristique, abordant la capacité de la comédie à évoquer des vérités personnelles et sociétales tout en divertissant.\n",
       "- Les dynamiques entre les comédiens sur scène, leur amitié et leurs expériences professionnelles ont été également mises en avant.\n",
       "\n",
       "## 6. **Appel à la tolérance et acceptation de soi**\n",
       "- Les échanges autour de la façon dont chacun a appris à accepter ses propres racines et ses différences sont restés en toile de fond, positionnant l'importance de la tolérance dans le cadre de la société moderne.\n",
       "\n",
       "## 7. **Événements à venir : promotions de films et spectacles**\n",
       "- Plusieurs événements à venir ont été annoncés, incluant la sortie de *Ici et là-bas* au cinéma et des spectacles d'humour, renforçant l'idée de la continuité des carrières des artistes présents.\n",
       "\n",
       "## 8. **Culture musicale : Bruce Springsteen**\n",
       "- Un segment a été consacré à la carrière de Bruce Springsteen, avec des réflexions sur sa notoriété actuelle et son impact sur la musique et la culture.\n",
       "\n",
       "Cet ensemble de discussions reflète une connexion entre la cuisine, l'art et les expériences individuelles, tout en explorant des dimensions sociales pertinentes à notre époque."
      ],
      "text/plain": [
       "<IPython.core.display.Markdown object>"
      ]
     },
     "metadata": {},
     "output_type": "display_data"
    },
    {
     "name": "stdout",
     "output_type": "stream",
     "text": [
      "None\n"
     ]
    }
   ],
   "source": [
    "text_summarizer = TextSummarizer(transcript_file_path)\n",
    "print(text_summarizer.call())"
   ]
  }
 ],
 "metadata": {
  "kernelspec": {
   "display_name": "base",
   "language": "python",
   "name": "python3"
  },
  "language_info": {
   "codemirror_mode": {
    "name": "ipython",
    "version": 3
   },
   "file_extension": ".py",
   "mimetype": "text/x-python",
   "name": "python",
   "nbconvert_exporter": "python",
   "pygments_lexer": "ipython3",
   "version": "3.12.7"
  }
 },
 "nbformat": 4,
 "nbformat_minor": 2
}
